{
 "cells": [
  {
   "cell_type": "code",
   "execution_count": 1,
   "id": "914f8648",
   "metadata": {},
   "outputs": [
    {
     "name": "stdout",
     "output_type": "stream",
     "text": [
      "세 자리 암스트롱 수: [153, 370, 371, 407]\n"
     ]
    }
   ],
   "source": [
    "def is_armstrong_number(num):\n",
    "    x = num // 100\n",
    "    y = (num // 10) % 10\n",
    "    z = num % 10\n",
    "    \n",
    "    sum_cubed = x**3 + y**3 + z**3\n",
    "    return sum_cubed == num\n",
    "\n",
    "def find_armstrong_numbers():\n",
    "    armstrong_numbers = []\n",
    "    for num in range(100, 1000):\n",
    "        if is_armstrong_number(num):\n",
    "            armstrong_numbers.append(num)\n",
    "    return armstrong_numbers\n",
    "\n",
    "armstrong_numbers = find_armstrong_numbers()\n",
    "print(\"세 자리 암스트롱 수:\", armstrong_numbers)"
   ]
  },
  {
   "cell_type": "code",
   "execution_count": null,
   "id": "efd8a3b9",
   "metadata": {},
   "outputs": [],
   "source": []
  }
 ],
 "metadata": {
  "kernelspec": {
   "display_name": "Python 3 (ipykernel)",
   "language": "python",
   "name": "python3"
  },
  "language_info": {
   "codemirror_mode": {
    "name": "ipython",
    "version": 3
   },
   "file_extension": ".py",
   "mimetype": "text/x-python",
   "name": "python",
   "nbconvert_exporter": "python",
   "pygments_lexer": "ipython3",
   "version": "3.10.9"
  }
 },
 "nbformat": 4,
 "nbformat_minor": 5
}
